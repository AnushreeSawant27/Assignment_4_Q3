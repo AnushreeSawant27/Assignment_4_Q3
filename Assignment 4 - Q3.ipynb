{
 "cells": [
  {
   "cell_type": "markdown",
   "id": "62af6071",
   "metadata": {},
   "source": [
    "# Write a Python program to square the elements of a list using map() function."
   ]
  },
  {
   "cell_type": "code",
   "execution_count": 5,
   "id": "887e767a",
   "metadata": {},
   "outputs": [
    {
     "name": "stdout",
     "output_type": "stream",
     "text": [
      "Square of the list elements are: [16, 25, 4, 81]\n"
     ]
    }
   ],
   "source": [
    "def square_number(x):\n",
    "    return x ** 2\n",
    "\n",
    "sample_list = [4, 5, 2, 9]\n",
    "squared_numbers = list(map(square_number, sample_list))\n",
    "\n",
    "print('Square of the list elements are:',squared_numbers)"
   ]
  }
 ],
 "metadata": {
  "kernelspec": {
   "display_name": "Python 3 (ipykernel)",
   "language": "python",
   "name": "python3"
  },
  "language_info": {
   "codemirror_mode": {
    "name": "ipython",
    "version": 3
   },
   "file_extension": ".py",
   "mimetype": "text/x-python",
   "name": "python",
   "nbconvert_exporter": "python",
   "pygments_lexer": "ipython3",
   "version": "3.9.12"
  }
 },
 "nbformat": 4,
 "nbformat_minor": 5
}
